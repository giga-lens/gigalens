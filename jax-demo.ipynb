{
 "cells": [
  {
   "cell_type": "code",
   "execution_count": 2,
   "id": "efb6c679",
   "metadata": {
    "collapsed": false,
    "jupyter": {
     "outputs_hidden": false
    },
    "pycharm": {
     "name": "#%%\n"
    }
   },
   "outputs": [
    {
     "name": "stdout",
     "output_type": "stream",
     "text": [
      "Sat Sep  3 16:03:42 2022       \n",
      "+-----------------------------------------------------------------------------+\n",
      "| NVIDIA-SMI 515.48.07    Driver Version: 515.48.07    CUDA Version: 11.7     |\n",
      "|-------------------------------+----------------------+----------------------+\n",
      "| GPU  Name        Persistence-M| Bus-Id        Disp.A | Volatile Uncorr. ECC |\n",
      "| Fan  Temp  Perf  Pwr:Usage/Cap|         Memory-Usage | GPU-Util  Compute M. |\n",
      "|                               |                      |               MIG M. |\n",
      "|===============================+======================+======================|\n",
      "|   0  NVIDIA A100-SXM...  On   | 00000000:03:00.0 Off |                    0 |\n",
      "| N/A   27C    P0    51W / 400W |      3MiB / 40960MiB |      0%      Default |\n",
      "|                               |                      |             Disabled |\n",
      "+-------------------------------+----------------------+----------------------+\n",
      "|   1  NVIDIA A100-SXM...  On   | 00000000:41:00.0 Off |                    0 |\n",
      "| N/A   27C    P0    49W / 400W |      3MiB / 40960MiB |      0%      Default |\n",
      "|                               |                      |             Disabled |\n",
      "+-------------------------------+----------------------+----------------------+\n",
      "|   2  NVIDIA A100-SXM...  On   | 00000000:82:00.0 Off |                    0 |\n",
      "| N/A   26C    P0    52W / 400W |      3MiB / 40960MiB |      0%      Default |\n",
      "|                               |                      |             Disabled |\n",
      "+-------------------------------+----------------------+----------------------+\n",
      "|   3  NVIDIA A100-SXM...  On   | 00000000:C1:00.0 Off |                    0 |\n",
      "| N/A   27C    P0    50W / 400W |      3MiB / 40960MiB |      0%      Default |\n",
      "|                               |                      |             Disabled |\n",
      "+-------------------------------+----------------------+----------------------+\n",
      "                                                                               \n",
      "+-----------------------------------------------------------------------------+\n",
      "| Processes:                                                                  |\n",
      "|  GPU   GI   CI        PID   Type   Process name                  GPU Memory |\n",
      "|        ID   ID                                                   Usage      |\n",
      "|=============================================================================|\n",
      "|  No running processes found                                                 |\n",
      "+-----------------------------------------------------------------------------+\n"
     ]
    }
   ],
   "source": [
    "!nvidia-smi"
   ]
  },
  {
   "cell_type": "code",
   "execution_count": 2,
   "id": "bf727303",
   "metadata": {
    "collapsed": false,
    "jupyter": {
     "outputs_hidden": false
    },
    "pycharm": {
     "name": "#%%\n"
    }
   },
   "outputs": [],
   "source": [
    "# from gigalens.jax.inference import ModellingSequence\n",
    "# from gigalens.jax.model import ForwardProbModel, BackwardProbModel\n",
    "# from gigalens.model import PhysicalModel\n",
    "# from gigalens.jax.simulator import LensSimulator\n",
    "# from gigalens.simulator import SimulatorConfig\n",
    "# from gigalens.jax.profiles.light import sersic\n",
    "# from gigalens.jax.profiles.mass import epl, shear\n",
    "\n",
    "# import tensorflow_probability.substrates.jax as tfp\n",
    "# import jax\n",
    "# from jax import random\n",
    "# import numpy as np\n",
    "# import optax\n",
    "# from jax import numpy as jnp\n",
    "# from matplotlib import pyplot as plt\n",
    "# import optax\n",
    "# tfd = tfp.distributions"
   ]
  },
  {
   "cell_type": "code",
   "execution_count": 1,
   "id": "299ebaa2-1876-488f-a189-8682f76b4f01",
   "metadata": {},
   "outputs": [],
   "source": [
    "import sys\n",
    "sys.path.insert(0, '/global/u2/x/xshuang/HST-modeling/HST/gigalens-xh-dev/src')\n",
    "\n",
    "from gigalens.jax.inference import ModellingSequence\n",
    "from gigalens.jax.model import ForwardProbModel, BackwardProbModel\n",
    "from gigalens.model import PhysicalModel\n",
    "from gigalens.jax.simulator import LensSimulator\n",
    "from gigalens.simulator import SimulatorConfig\n",
    "from gigalens.jax.profiles.light import sersic\n",
    "from gigalens.jax.profiles.mass import epl, shear\n",
    "\n",
    "import tensorflow_probability.substrates.jax as tfp\n",
    "import jax\n",
    "from jax import random\n",
    "import numpy as np\n",
    "import optax\n",
    "from jax import numpy as jnp\n",
    "from matplotlib import pyplot as plt\n",
    "import optax\n",
    "tfd = tfp.distributions\n",
    "\n",
    "# from inference import ModellingSequence"
   ]
  },
  {
   "cell_type": "code",
   "execution_count": 3,
   "id": "460c0499-66d8-44f5-8c84-992b74b099a7",
   "metadata": {
    "pycharm": {
     "name": "#%%\n"
    }
   },
   "outputs": [],
   "source": [
    "lens_prior = tfd.JointDistributionSequential(\n",
    "    [\n",
    "        tfd.JointDistributionNamed(\n",
    "            dict(\n",
    "                theta_E=tfd.LogNormal(jnp.log(1.25), 0.25),\n",
    "                gamma=tfd.TruncatedNormal(2, 0.25, 1, 3),\n",
    "                e1=tfd.Normal(0, 0.1),\n",
    "                e2=tfd.Normal(0, 0.1),\n",
    "                center_x=tfd.Normal(0, 0.05),\n",
    "                center_y=tfd.Normal(0, 0.05),\n",
    "            )\n",
    "        ),\n",
    "        tfd.JointDistributionNamed(\n",
    "            dict(gamma1=tfd.Normal(0, 0.05), gamma2=tfd.Normal(0, 0.05))\n",
    "        ),\n",
    "    ]\n",
    ")\n",
    "lens_light_prior = tfd.JointDistributionSequential(\n",
    "    [\n",
    "        tfd.JointDistributionNamed(\n",
    "            dict(\n",
    "                R_sersic=tfd.LogNormal(jnp.log(1.0), 0.15),\n",
    "                n_sersic=tfd.Uniform(2, 6),\n",
    "                e1=tfd.TruncatedNormal(0, 0.1, -0.3, 0.3),\n",
    "                e2=tfd.TruncatedNormal(0, 0.1, -0.3, 0.3),\n",
    "                center_x=tfd.Normal(0, 0.05),\n",
    "                center_y=tfd.Normal(0, 0.05),\n",
    "                Ie=tfd.LogNormal(jnp.log(500.0), 0.3),\n",
    "            )\n",
    "        )\n",
    "    ]\n",
    ")\n",
    "\n",
    "source_light_prior = tfd.JointDistributionSequential(\n",
    "    [\n",
    "        tfd.JointDistributionNamed(\n",
    "            dict(\n",
    "                R_sersic=tfd.LogNormal(jnp.log(0.25), 0.15),\n",
    "                n_sersic=tfd.Uniform(0.5, 4),\n",
    "                e1=tfd.TruncatedNormal(0, 0.15, -0.5, 0.5),\n",
    "                e2=tfd.TruncatedNormal(0, 0.15, -0.5, 0.5),\n",
    "                center_x=tfd.Normal(0, 0.25),\n",
    "                center_y=tfd.Normal(0, 0.25),\n",
    "                Ie=tfd.LogNormal(jnp.log(150.0), 0.5),\n",
    "            )\n",
    "        )\n",
    "    ]\n",
    ")\n",
    "\n",
    "prior = tfd.JointDistributionSequential(\n",
    "    [lens_prior, lens_light_prior, source_light_prior]\n",
    ")"
   ]
  },
  {
   "cell_type": "code",
   "execution_count": 4,
   "id": "9749e446-d99f-4f5d-b622-71d0dbd46ad7",
   "metadata": {
    "pycharm": {
     "name": "#%%\n"
    }
   },
   "outputs": [],
   "source": [
    "kernel = np.load('./src/gigalens/assets/psf.npy').astype(np.float32)\n",
    "sim_config = SimulatorConfig(delta_pix=0.065, num_pix=60, supersample=2, kernel=kernel)\n",
    "phys_model = PhysicalModel([epl.EPL(50), shear.Shear()], [sersic.SersicEllipse(use_lstsq=False)], [sersic.SersicEllipse(use_lstsq=False)])\n",
    "lens_sim = LensSimulator(phys_model, sim_config, bs=1)\n",
    "observed_img = np.load('./src/gigalens/assets/demo.npy')\n",
    "prob_model = ForwardProbModel(prior, observed_img, background_rms=0.2, exp_time=100)\n",
    "model_seq = ModellingSequence(phys_model, prob_model, sim_config)"
   ]
  },
  {
   "cell_type": "code",
   "execution_count": 5,
   "id": "b218d2ff-22fd-401f-b1ed-52ebe368ccc4",
   "metadata": {
    "pycharm": {
     "name": "#%%\n"
    }
   },
   "outputs": [
    {
     "data": {
      "application/vnd.jupyter.widget-view+json": {
       "model_id": "905a3074091f404b8213f6c83da7e59e",
       "version_major": 2,
       "version_minor": 0
      },
      "text/plain": [
       "  0%|          | 0/20 [00:00<?, ?it/s]"
      ]
     },
     "metadata": {},
     "output_type": "display_data"
    }
   ],
   "source": [
    "schedule_fn = optax.polynomial_schedule(init_value=-1e-2, end_value=-1e-2/3, \n",
    "                                      power=0.5, transition_steps=500)\n",
    "opt = optax.chain(\n",
    "  optax.scale_by_adam(),\n",
    "  optax.scale_by_schedule(schedule_fn),\n",
    ")\n",
    "num_steps = 20\n",
    "num_samples = 20\n",
    "map_estimate = model_seq.MAP(opt, seed=0, n_samples=num_samples, num_steps=num_steps)\n",
    "# map_estimate = model_seq.MAP(opt, seed=0, n_samples=30, num_steps=num_steps)"
   ]
  },
  {
   "cell_type": "code",
   "execution_count": 7,
   "id": "53250458-8c27-4b44-aa14-2a8deadfb78b",
   "metadata": {
    "pycharm": {
     "name": "#%%\n"
    }
   },
   "outputs": [],
   "source": [
    "lps = prob_model.log_prob(LensSimulator(phys_model, sim_config, bs=num_samples), map_estimate)[0]\n",
    "best = map_estimate[jnp.argmax(lps)][jnp.newaxis,:]"
   ]
  },
  {
   "cell_type": "code",
   "execution_count": 8,
   "id": "58621ced-93cb-4675-8cda-d0d4eb156d65",
   "metadata": {
    "pycharm": {
     "name": "#%%\n"
    }
   },
   "outputs": [
    {
     "data": {
      "application/vnd.jupyter.widget-view+json": {
       "model_id": "e75bfdde50b045f0b64b61ed1ed8406b",
       "version_major": 2,
       "version_minor": 0
      },
      "text/plain": [
       "  0%|          | 0/100 [00:00<?, ?it/s]"
      ]
     },
     "metadata": {},
     "output_type": "display_data"
    }
   ],
   "source": [
    "schedule_fn = optax.polynomial_schedule(init_value=-1e-6, end_value=-3e-3, \n",
    "                                      power=2, transition_steps=300)\n",
    "opt = optax.chain(\n",
    "  optax.scale_by_adam(),\n",
    "  optax.scale_by_schedule(schedule_fn),\n",
    ")\n",
    "qz, loss_hist = model_seq.SVI(best, opt, n_vi=100, num_steps=100)\n",
    "# qz, loss_hist = model_seq.SVI(best, opt, n_vi=1000, num_steps=1500)"
   ]
  },
  {
   "cell_type": "code",
   "execution_count": 9,
   "id": "cb8097d1-3e18-4627-9b0f-1dd96bb8d5fe",
   "metadata": {
    "pycharm": {
     "name": "#%%\n"
    }
   },
   "outputs": [
    {
     "data": {
      "text/plain": [
       "[<matplotlib.lines.Line2D at 0x7f8f5c4d3ed0>]"
      ]
     },
     "execution_count": 9,
     "metadata": {},
     "output_type": "execute_result"
    },
    {
     "data": {
      "image/png": "[encoded data removed]",
      "text/plain": [
       "<Figure size 432x288 with 1 Axes>"
      ]
     },
     "metadata": {
      "needs_background": "light"
     },
     "output_type": "display_data"
    }
   ],
   "source": [
    "plt.plot(loss_hist)"
   ]
  },
  {
   "cell_type": "code",
   "execution_count": 10,
   "id": "9ffc13bb-c882-4b54-a826-7dae1df7db6f",
   "metadata": {
    "pycharm": {
     "name": "#%%\n"
    }
   },
   "outputs": [
    {
     "ename": "AttributeError",
     "evalue": "module 'tensorflow_probability.substrates.jax.experimental.mcmc' has no attribute 'ProgressBarReducer'",
     "output_type": "error",
     "traceback": [
      "\u001b[0;31m---------------------------------------------------------------------------\u001b[0m",
      "\u001b[0;31mAttributeError\u001b[0m                            Traceback (most recent call last)",
      "\u001b[0;32m/tmp/ipykernel_3698/2179311376.py\u001b[0m in \u001b[0;36m<module>\u001b[0;34m\u001b[0m\n\u001b[0;32m----> 1\u001b[0;31m \u001b[0msamples\u001b[0m \u001b[0;34m=\u001b[0m \u001b[0mmodel_seq\u001b[0m\u001b[0;34m.\u001b[0m\u001b[0mHMC\u001b[0m\u001b[0;34m(\u001b[0m\u001b[0mqz\u001b[0m\u001b[0;34m,\u001b[0m \u001b[0mnum_burnin_steps\u001b[0m\u001b[0;34m=\u001b[0m\u001b[0;36m20\u001b[0m\u001b[0;34m,\u001b[0m \u001b[0mnum_results\u001b[0m\u001b[0;34m=\u001b[0m\u001b[0;36m70\u001b[0m\u001b[0;34m)\u001b[0m\u001b[0;34m\u001b[0m\u001b[0;34m\u001b[0m\u001b[0m\n\u001b[0m",
      "\u001b[0;32m/global/u2/x/xshuang/HST-modeling/HST/gigalens-xh-dev/src/gigalens/jax/inference.py\u001b[0m in \u001b[0;36mHMC\u001b[0;34m(self, q_z, init_eps, init_l, n_hmc, num_burnin_steps, num_results, max_leapfrog_steps, seed)\u001b[0m\n\u001b[1;32m    200\u001b[0m \u001b[0;34m\u001b[0m\u001b[0m\n\u001b[1;32m    201\u001b[0m         \u001b[0mstart\u001b[0m \u001b[0;34m=\u001b[0m \u001b[0mtime\u001b[0m\u001b[0;34m.\u001b[0m\u001b[0mtime\u001b[0m\u001b[0;34m(\u001b[0m\u001b[0;34m)\u001b[0m\u001b[0;34m\u001b[0m\u001b[0;34m\u001b[0m\u001b[0m\n\u001b[0;32m--> 202\u001b[0;31m         \u001b[0mret\u001b[0m \u001b[0;34m=\u001b[0m \u001b[0mrun_chain\u001b[0m\u001b[0;34m(\u001b[0m\u001b[0mseeds\u001b[0m\u001b[0;34m)\u001b[0m\u001b[0;34m\u001b[0m\u001b[0;34m\u001b[0m\u001b[0m\n\u001b[0m\u001b[1;32m    203\u001b[0m         \u001b[0mend\u001b[0m \u001b[0;34m=\u001b[0m \u001b[0mtime\u001b[0m\u001b[0;34m.\u001b[0m\u001b[0mtime\u001b[0m\u001b[0;34m(\u001b[0m\u001b[0;34m)\u001b[0m\u001b[0;34m\u001b[0m\u001b[0;34m\u001b[0m\u001b[0m\n\u001b[1;32m    204\u001b[0m         \u001b[0mprint\u001b[0m\u001b[0;34m(\u001b[0m\u001b[0;34mf\"Sampling took {(end - start):.1f}s\"\u001b[0m\u001b[0;34m)\u001b[0m\u001b[0;34m\u001b[0m\u001b[0;34m\u001b[0m\u001b[0m\n",
      "    \u001b[0;31m[... skipping hidden 13 frame]\u001b[0m\n",
      "\u001b[0;32m/global/u2/x/xshuang/HST-modeling/HST/gigalens-xh-dev/src/gigalens/jax/inference.py\u001b[0m in \u001b[0;36mrun_chain\u001b[0;34m(seed)\u001b[0m\n\u001b[1;32m    184\u001b[0m             )\n\u001b[1;32m    185\u001b[0m \u001b[0;34m\u001b[0m\u001b[0m\n\u001b[0;32m--> 186\u001b[0;31m             pbar = tfe.mcmc.ProgressBarReducer(\n\u001b[0m\u001b[1;32m    187\u001b[0m                 \u001b[0mnum_results\u001b[0m \u001b[0;34m+\u001b[0m \u001b[0mnum_burnin_steps\u001b[0m \u001b[0;34m-\u001b[0m \u001b[0;36m1\u001b[0m\u001b[0;34m,\u001b[0m \u001b[0mprogress_bar_fn\u001b[0m\u001b[0;34m=\u001b[0m\u001b[0mtqdm_progress_bar_fn\u001b[0m\u001b[0;34m\u001b[0m\u001b[0;34m\u001b[0m\u001b[0m\n\u001b[1;32m    188\u001b[0m             )\n",
      "\u001b[0;31mAttributeError\u001b[0m: module 'tensorflow_probability.substrates.jax.experimental.mcmc' has no attribute 'ProgressBarReducer'"
     ]
    }
   ],
   "source": [
    "samples = model_seq.HMC(qz, num_burnin_steps=20, num_results=70)"
   ]
  },
  {
   "cell_type": "code",
   "execution_count": 13,
   "id": "ff237894-d230-4c44-9aa3-65a2199de8ed",
   "metadata": {
    "pycharm": {
     "name": "#%%\n"
    }
   },
   "outputs": [],
   "source": [
    "rhat= tfp.mcmc.potential_scale_reduction(jnp.transpose(samples.all_states, (1,2,0,3)), independent_chain_ndims=2)"
   ]
  },
  {
   "cell_type": "code",
   "execution_count": 14,
   "id": "c786c099-a7b8-4d65-b8c3-ffccfb383e1d",
   "metadata": {
    "pycharm": {
     "name": "#%%\n"
    }
   },
   "outputs": [
    {
     "data": {
      "text/plain": [
       "DeviceArray([1.0031133, 1.0154064, 1.0300986, 1.0455794, 1.1032083,\n",
       "             1.0187557, 1.0975742, 1.0426505, 1.0087693, 1.016461 ,\n",
       "             1.0071555, 1.0018296, 1.0021337, 1.0007672, 1.006384 ,\n",
       "             1.0650535, 1.0207828, 1.0014718, 1.0782766, 1.0090909,\n",
       "             1.0064999, 1.056856 ], dtype=float32)"
      ]
     },
     "execution_count": 14,
     "metadata": {},
     "output_type": "execute_result"
    }
   ],
   "source": [
    "rhat"
   ]
  },
  {
   "cell_type": "code",
   "execution_count": null,
   "id": "eb0a29f6-3973-427d-90c3-b8c3167e45b2",
   "metadata": {
    "pycharm": {
     "name": "#%%\n"
    }
   },
   "outputs": [],
   "source": []
  }
 ],
 "metadata": {
  "kernelspec": {
   "display_name": "JaxEnv",
   "language": "python",
   "name": "jaxenv"
  },
  "language_info": {
   "codemirror_mode": {
    "name": "ipython",
    "version": 3
   },
   "file_extension": ".py",
   "mimetype": "text/x-python",
   "name": "python",
   "nbconvert_exporter": "python",
   "pygments_lexer": "ipython3",
   "version": "3.7.11"
  }
 },
 "nbformat": 4,
 "nbformat_minor": 5
}
