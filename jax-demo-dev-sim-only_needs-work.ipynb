{
 "cells": [
  {
   "cell_type": "markdown",
   "id": "ab4889a0-3c37-4ded-a6ef-6eb44524ce3f",
   "metadata": {},
   "source": [
    "## The purpose of the dev version: to add source plane\n",
    "## 1. From forward modeling\n",
    "## 2. From delens"
   ]
  },
  {
   "cell_type": "code",
   "execution_count": 1,
   "id": "381d7aa6-a15b-499a-ac5e-c5e599aa5bd7",
   "metadata": {},
   "outputs": [],
   "source": [
    "# can I do: output = !pip install ipympl?\n",
    "# !pip install ipympl"
   ]
  },
  {
   "cell_type": "code",
   "execution_count": 2,
   "id": "9b61f80b-44d5-4a65-b0df-17a5c168ea7c",
   "metadata": {},
   "outputs": [],
   "source": [
    "# this shows ipympl is not in the JaxEnv backend\n",
    "# !conda list ipympl"
   ]
  },
  {
   "cell_type": "code",
   "execution_count": 3,
   "id": "efb6c679",
   "metadata": {
    "collapsed": false,
    "jupyter": {
     "outputs_hidden": false
    },
    "pycharm": {
     "name": "#%%\n"
    }
   },
   "outputs": [],
   "source": [
    "#!nvidia-smi"
   ]
  },
  {
   "cell_type": "code",
   "execution_count": 4,
   "id": "cfc9f7f3",
   "metadata": {},
   "outputs": [
    {
     "name": "stdout",
     "output_type": "stream",
     "text": [
      "3.7.11\n"
     ]
    }
   ],
   "source": [
    "from platform import python_version\n",
    "print(python_version())"
   ]
  },
  {
   "cell_type": "code",
   "execution_count": 5,
   "id": "299ebaa2-1876-488f-a189-8682f76b4f01",
   "metadata": {},
   "outputs": [
    {
     "name": "stdout",
     "output_type": "stream",
     "text": [
      "/global/homes/a/andigu/.conda/envs/jaxenv/lib/python3.7/os.py\n",
      "/global/homes/x/xshuang/gigalens-xh-dev/src/gigalens/jax/inference.py\n",
      "/global/homes/x/xshuang/gigalens-xh-dev/src/gigalens/model.py\n"
     ]
    },
    {
     "data": {
      "text/plain": [
       "4"
      ]
     },
     "execution_count": 5,
     "metadata": {},
     "output_type": "execute_result"
    }
   ],
   "source": [
    "%matplotlib inline\n",
    "# %matplotlib ipympl\n",
    "from os.path import expanduser\n",
    "home = expanduser(\"~\")\n",
    "\n",
    "import sys\n",
    "sys.path.insert(0, home+'/gigalens-xh-dev/src')\n",
    "sys.path.insert(0, home+'/anaconda3')\n",
    "\n",
    "\n",
    "from gigalens.jax.inference import ModellingSequence\n",
    "from gigalens.jax.model import ForwardProbModel, BackwardProbModel\n",
    "from gigalens.model import PhysicalModel\n",
    "from gigalens.jax.simulator import LensSimulator\n",
    "from gigalens.simulator import SimulatorConfig\n",
    "from gigalens.jax.profiles.light import sersic\n",
    "from gigalens.jax.profiles.mass import epl, shear\n",
    "\n",
    "import tensorflow_probability.substrates.jax as tfp\n",
    "import jax\n",
    "from jax import random\n",
    "import numpy as np\n",
    "import optax\n",
    "from jax import numpy as jnp\n",
    "from matplotlib import pyplot as plt\n",
    "import matplotlib as mpl\n",
    "\n",
    "from lenstronomy.Plots import lens_plot\n",
    "from lenstronomy.LensModel.lens_model import LensModel\n",
    "\n",
    "\n",
    "import optax\n",
    "tfd = tfp.distributions\n",
    "\n",
    "# checking if using dev\n",
    "import inspect\n",
    "# import gigalens\n",
    "import os\n",
    "\n",
    "# print(gigalens.__file__)\n",
    "print(inspect.getfile(os))\n",
    "print(inspect.getfile(ModellingSequence))\n",
    "print(inspect.getfile(PhysicalModel))\n",
    "\n",
    "jax.device_count()"
   ]
  },
  {
   "cell_type": "code",
   "execution_count": 6,
   "id": "460c0499-66d8-44f5-8c84-992b74b099a7",
   "metadata": {
    "pycharm": {
     "name": "#%%\n"
    }
   },
   "outputs": [],
   "source": [
    "lens_prior = tfd.JointDistributionSequential(\n",
    "    [\n",
    "        tfd.JointDistributionNamed(\n",
    "            dict(\n",
    "                theta_E=tfd.LogNormal(jnp.log(1.25), 0.25),\n",
    "                gamma=tfd.TruncatedNormal(2, 0.25, 1, 3),\n",
    "                e1=tfd.Normal(0, 0.1),\n",
    "                e2=tfd.Normal(0, 0.1),\n",
    "                center_x=tfd.Normal(0, 0.05),\n",
    "                center_y=tfd.Normal(0, 0.05),\n",
    "            )\n",
    "        ),\n",
    "        tfd.JointDistributionNamed(\n",
    "            dict(gamma1=tfd.Normal(0, 0.05), gamma2=tfd.Normal(0, 0.05))\n",
    "        ),\n",
    "    ]\n",
    ")\n",
    "lens_light_prior = tfd.JointDistributionSequential(\n",
    "    [\n",
    "        tfd.JointDistributionNamed(\n",
    "            dict(\n",
    "                R_sersic=tfd.LogNormal(jnp.log(1.0), 0.15),\n",
    "                n_sersic=tfd.Uniform(2, 6),\n",
    "                e1=tfd.TruncatedNormal(0, 0.1, -0.3, 0.3),\n",
    "                e2=tfd.TruncatedNormal(0, 0.1, -0.3, 0.3),\n",
    "                center_x=tfd.Normal(0, 0.05),\n",
    "                center_y=tfd.Normal(0, 0.05),\n",
    "                Ie=tfd.LogNormal(jnp.log(500.0), 0.3),\n",
    "            )\n",
    "        )\n",
    "    ]\n",
    ")\n",
    "\n",
    "source_light_prior = tfd.JointDistributionSequential(\n",
    "    [\n",
    "        tfd.JointDistributionNamed(\n",
    "            dict(\n",
    "                R_sersic=tfd.LogNormal(jnp.log(0.25), 0.15),\n",
    "                n_sersic=tfd.Uniform(0.5, 4),\n",
    "                e1=tfd.TruncatedNormal(0, 0.15, -0.5, 0.5),\n",
    "                e2=tfd.TruncatedNormal(0, 0.15, -0.5, 0.5),\n",
    "                center_x=tfd.Normal(0, 0.25),\n",
    "                center_y=tfd.Normal(0, 0.25),\n",
    "                Ie=tfd.LogNormal(jnp.log(150.0), 0.5),\n",
    "            )\n",
    "        )\n",
    "    ]\n",
    ")\n",
    "\n",
    "prior = tfd.JointDistributionSequential(\n",
    "    [lens_prior, lens_light_prior, source_light_prior]\n",
    ")\n",
    "\n",
    "\n",
    "# more readable form \n",
    "def extract_params(best_params):\n",
    "\n",
    "    mass_params = ['theta_E', 'gamma', 'e1', 'e2', 'center_x', 'center_y']\n",
    "    shear_params = ['gamma1', 'gamma2']\n",
    "    # if not using linear inversion -- then Ie is included\n",
    "    light_params = ['R_sersic', 'n_sersic', 'e1', 'e2','center_x', 'center_y', 'Ie']\n",
    "    # if using linear inversion -- then no Ie\n",
    "    # light_params = ['R_sersic', 'n_sersic', 'e1', 'e2','center_x', 'center_y']\n",
    "\n",
    "    count = 0\n",
    "    for i in range(len(best_params)):\n",
    "        if i==0:\n",
    "            print('Lens mass params ({:d} sets):'.format(len(best_params[i])))\n",
    "        elif i==1:\n",
    "            print('Lens light params({:d} sets):'.format(len(best_params[i])))\n",
    "        elif i==2:\n",
    "            print('Source light params({:d} sets):'.format(len(best_params[i])))\n",
    "        for j in range(len(best_params[i])):\n",
    "            if j > 0:\n",
    "                print()\n",
    "            for k in range(len(best_params[i][j])):\n",
    "                if i==0:\n",
    "                    if j==0:\n",
    "                        print('{:5s}={:6.3f}  '.format(mass_params[k], best_params[i][j][mass_params[k]]), end='')\n",
    "                    elif j==1:\n",
    "                        print('{:5s}={:6.3f}  '.format(shear_params[k], best_params[i][j][shear_params[k]]), end='')\n",
    "\n",
    "                else:\n",
    "                    print('{:5s}={:6.3f}  '.format(light_params[k], best_params[i][j][light_params[k]]), end='')\n",
    "\n",
    "                count += 1\n",
    "        print('\\n')\n"
   ]
  },
  {
   "cell_type": "code",
   "execution_count": 7,
   "id": "9749e446-d99f-4f5d-b622-71d0dbd46ad7",
   "metadata": {
    "pycharm": {
     "name": "#%%\n"
    }
   },
   "outputs": [
    {
     "name": "stdout",
     "output_type": "stream",
     "text": [
      "beta for lens #0\n",
      "lens EPL\n",
      "lens params {'center_x': Traced<ShapedArray(float32[], weak_type=True)>with<DynamicJaxprTrace(level=0/2)>, 'center_y': Traced<ShapedArray(float32[], weak_type=True)>with<DynamicJaxprTrace(level=0/2)>, 'e1': Traced<ShapedArray(float32[], weak_type=True)>with<DynamicJaxprTrace(level=0/2)>, 'e2': Traced<ShapedArray(float32[], weak_type=True)>with<DynamicJaxprTrace(level=0/2)>, 'gamma': Traced<ShapedArray(float32[], weak_type=True)>with<DynamicJaxprTrace(level=0/2)>, 'theta_E': Traced<ShapedArray(float32[], weak_type=True)>with<DynamicJaxprTrace(level=0/2)>}\n",
      "beta for lens #1\n",
      "lens SHEAR\n",
      "lens params {'gamma1': Traced<ShapedArray(float32[], weak_type=True)>with<DynamicJaxprTrace(level=0/2)>, 'gamma2': Traced<ShapedArray(float32[], weak_type=True)>with<DynamicJaxprTrace(level=0/2)>}\n"
     ]
    },
    {
     "data": {
      "image/png": "[encoded data removed]",
      "text/plain": [
       "<Figure size 432x288 with 1 Axes>"
      ]
     },
     "metadata": {
      "needs_background": "light"
     },
     "output_type": "display_data"
    },
    {
     "name": "stdout",
     "output_type": "stream",
     "text": [
      "theta_E location in pixels: 46.0\n"
     ]
    }
   ],
   "source": [
    "delta_pix = 0.065\n",
    "num_pix = 60\n",
    "ctr = num_pix//2\n",
    "supersample = 2\n",
    "\n",
    "kernel = np.load('./src/gigalens/assets/psf.npy').astype(np.float32)\n",
    "sim_config = SimulatorConfig(delta_pix=delta_pix, num_pix=num_pix, supersample=supersample, kernel=kernel)\n",
    "phys_model = PhysicalModel([epl.EPL(50), shear.Shear()], [sersic.SersicEllipse(use_lstsq=False)], [sersic.SersicEllipse(use_lstsq=False)])\n",
    "lens_sim = LensSimulator(phys_model, sim_config, bs=1)\n",
    "\n",
    "background_rms, exp_time = 0.2, 100\n",
    "\n",
    "\n",
    "theta_E = 1.1\n",
    "# # Now I make up other systems\n",
    "\n",
    "truth = [[\n",
    "    {'theta_E': theta_E, 'gamma': 2.0, 'e1': 0.2, 'e2': 1e-6, 'center_x': 0.0, 'center_y': 0.0},\n",
    "    {'gamma1': 1e-6, 'gamma2': 1e-6}\n",
    "], [\n",
    "    {'R_sersic': 0.8, 'n_sersic': 4.0, 'e1': 1e-6, 'e2': 1e-6, 'center_x': 1e-6, 'center_y': 2e-6, 'Ie': 100.}\n",
    "], [\n",
    "    {'R_sersic': 0.1, 'n_sersic': 1.0, 'e1': 0., 'e2': 0., 'center_x': 0.0, 'center_y': 0.0, 'Ie': 500.}\n",
    "]]\n",
    "\n",
    "noiseless_img = lens_sim.simulate(truth)\n",
    "observed_img = noiseless_img + \\\n",
    "                np.random.normal(0, background_rms, noiseless_img.shape) + \\\n",
    "                np.random.poisson(noiseless_img/exp_time, noiseless_img.shape)\n",
    "plt.imshow(observed_img)\n",
    "\n",
    "# observed_img = np.load('./src/gigalens/assets/demo.npy')\n",
    "prob_model = ForwardProbModel(prior, observed_img, background_rms=background_rms, exp_time=exp_time)\n",
    "model_seq = ModellingSequence(phys_model, prob_model, sim_config)\n",
    "\n",
    "# plt.imshow(simulated, norm=mpl.colors.PowerNorm(0.5, vmin=0, vmax=20),)\n",
    "\n",
    "plt.imshow(observed_img)\n",
    "plt.show()\n",
    "\n",
    "print('theta_E location in pixels:', theta_E//delta_pix + ctr)"
   ]
  },
  {
   "cell_type": "code",
   "execution_count": 19,
   "id": "1b27e415-355a-4ed2-93f1-2c2a027ac2e6",
   "metadata": {},
   "outputs": [
    {
     "name": "stdout",
     "output_type": "stream",
     "text": [
      "DEV version!!!\n"
     ]
    },
    {
     "data": {
      "application/vnd.jupyter.widget-view+json": {
       "model_id": "fbed2a5d99454c73903f3f918f32ee99",
       "version_major": 2,
       "version_minor": 0
      },
      "text/plain": [
       "  0%|          | 0/1000 [00:00<?, ?it/s]"
      ]
     },
     "metadata": {},
     "output_type": "display_data"
    },
    {
     "name": "stdout",
     "output_type": "stream",
     "text": [
      "beta for lens #0\n",
      "lens EPL\n",
      "lens params {'center_x': Traced<ShapedArray(float32[75])>with<JVPTrace(level=2/4)> with\n",
      "  primal = Traced<ShapedArray(float32[75])>with<JaxprTrace(level=1/4)> with\n",
      "    pval = (None, Traced<ShapedArray(float32[75])>with<DynamicJaxprTrace(level=0/4)>)\n",
      "    recipe = *\n",
      "  tangent = Traced<ShapedArray(float32[75])>with<JaxprTrace(level=1/4)> with\n",
      "    pval = (ShapedArray(float32[75]), Traced<AbstractUnit()>with<DynamicJaxprTrace(level=0/4)>)\n",
      "    recipe = LambdaBinding(), 'center_y': Traced<ShapedArray(float32[75])>with<JVPTrace(level=2/4)> with\n",
      "  primal = Traced<ShapedArray(float32[75])>with<JaxprTrace(level=1/4)> with\n",
      "    pval = (None, Traced<ShapedArray(float32[75])>with<DynamicJaxprTrace(level=0/4)>)\n",
      "    recipe = *\n",
      "  tangent = Traced<ShapedArray(float32[75])>with<JaxprTrace(level=1/4)> with\n",
      "    pval = (ShapedArray(float32[75]), Traced<AbstractUnit()>with<DynamicJaxprTrace(level=0/4)>)\n",
      "    recipe = LambdaBinding(), 'e1': Traced<ShapedArray(float32[75])>with<JVPTrace(level=2/4)> with\n",
      "  primal = Traced<ShapedArray(float32[75])>with<JaxprTrace(level=1/4)> with\n",
      "    pval = (None, Traced<ShapedArray(float32[75])>with<DynamicJaxprTrace(level=0/4)>)\n",
      "    recipe = *\n",
      "  tangent = Traced<ShapedArray(float32[75])>with<JaxprTrace(level=1/4)> with\n",
      "    pval = (ShapedArray(float32[75]), Traced<AbstractUnit()>with<DynamicJaxprTrace(level=0/4)>)\n",
      "    recipe = LambdaBinding(), 'e2': Traced<ShapedArray(float32[75])>with<JVPTrace(level=2/4)> with\n",
      "  primal = Traced<ShapedArray(float32[75])>with<JaxprTrace(level=1/4)> with\n",
      "    pval = (None, Traced<ShapedArray(float32[75])>with<DynamicJaxprTrace(level=0/4)>)\n",
      "    recipe = *\n",
      "  tangent = Traced<ShapedArray(float32[75])>with<JaxprTrace(level=1/4)> with\n",
      "    pval = (ShapedArray(float32[75]), Traced<AbstractUnit()>with<DynamicJaxprTrace(level=0/4)>)\n",
      "    recipe = LambdaBinding(), 'gamma': Traced<ShapedArray(float32[75])>with<JVPTrace(level=2/4)> with\n",
      "  primal = Traced<ShapedArray(float32[75])>with<JaxprTrace(level=1/4)> with\n",
      "    pval = (None, Traced<ShapedArray(float32[75])>with<DynamicJaxprTrace(level=0/4)>)\n",
      "    recipe = *\n",
      "  tangent = Traced<ShapedArray(float32[75])>with<JaxprTrace(level=1/4)> with\n",
      "    pval = (ShapedArray(float32[75]), Traced<AbstractUnit()>with<DynamicJaxprTrace(level=0/4)>)\n",
      "    recipe = LambdaBinding(), 'theta_E': Traced<ShapedArray(float32[75])>with<JVPTrace(level=2/4)> with\n",
      "  primal = Traced<ShapedArray(float32[75])>with<JaxprTrace(level=1/4)> with\n",
      "    pval = (None, Traced<ShapedArray(float32[75])>with<DynamicJaxprTrace(level=0/4)>)\n",
      "    recipe = *\n",
      "  tangent = Traced<ShapedArray(float32[75])>with<JaxprTrace(level=1/4)> with\n",
      "    pval = (ShapedArray(float32[75]), Traced<AbstractUnit()>with<DynamicJaxprTrace(level=0/4)>)\n",
      "    recipe = LambdaBinding()}\n",
      "beta for lens #1\n",
      "lens SHEAR\n",
      "lens params {'gamma1': Traced<ShapedArray(float32[75])>with<JVPTrace(level=2/4)> with\n",
      "  primal = Traced<ShapedArray(float32[75])>with<JaxprTrace(level=1/4)> with\n",
      "    pval = (None, Traced<ShapedArray(float32[75])>with<DynamicJaxprTrace(level=0/4)>)\n",
      "    recipe = *\n",
      "  tangent = Traced<ShapedArray(float32[75])>with<JaxprTrace(level=1/4)> with\n",
      "    pval = (ShapedArray(float32[75]), Traced<AbstractUnit()>with<DynamicJaxprTrace(level=0/4)>)\n",
      "    recipe = LambdaBinding(), 'gamma2': Traced<ShapedArray(float32[75])>with<JVPTrace(level=2/4)> with\n",
      "  primal = Traced<ShapedArray(float32[75])>with<JaxprTrace(level=1/4)> with\n",
      "    pval = (None, Traced<ShapedArray(float32[75])>with<DynamicJaxprTrace(level=0/4)>)\n",
      "    recipe = *\n",
      "  tangent = Traced<ShapedArray(float32[75])>with<JaxprTrace(level=1/4)> with\n",
      "    pval = (ShapedArray(float32[75]), Traced<AbstractUnit()>with<DynamicJaxprTrace(level=0/4)>)\n",
      "    recipe = LambdaBinding()}\n"
     ]
    }
   ],
   "source": [
    "# on M1, 100 samples, 200 steps: 5 min to run -- so be careful\n",
    "\n",
    "map_samples = 300\n",
    "\n",
    "map_steps = 1000\n",
    "transition_steps = 1000\n",
    "\n",
    "seed, lr_start, lr_end, pwr = 0, -10e-2, -5e-2/10, 0.5\n",
    "\n",
    "schedule_fn = optax.polynomial_schedule(init_value=lr_start, end_value=lr_end, \n",
    "                                      power=pwr, transition_steps=transition_steps)\n",
    "opt = optax.chain(\n",
    "  optax.scale_by_adam(),\n",
    "  optax.scale_by_schedule(schedule_fn),\n",
    ")\n",
    "map_estimate, chi2_hist = model_seq.MAP(opt, seed=0, n_samples=map_samples, num_steps=map_steps)\n",
    "# map_estimate = model_seq.MAP(opt, seed=0, n_samples=30, num_steps=num_steps)"
   ]
  },
  {
   "cell_type": "code",
   "execution_count": 20,
   "id": "9b246e90-2bbf-48a1-8ff9-a7d8c8514ec9",
   "metadata": {},
   "outputs": [
    {
     "data": {
      "text/plain": [
       "((300, 22), 1000, 1000)"
      ]
     },
     "execution_count": 20,
     "metadata": {},
     "output_type": "execute_result"
    }
   ],
   "source": [
    "from datetime import datetime\n",
    "import pickle\n",
    "date = datetime.now().strftime(\"%Y_%m_%d-%H:%M\")\n",
    "\n",
    "hyper_params = [map_steps, transition_steps, seed, lr_start, lr_end, pwr]\n",
    "\n",
    "with open(f\"map_est_{date}_sim.pickle\", 'wb') as f:\n",
    "    pickle.dump((map_estimate, chi2_hist, hyper_params), f)\n",
    "\n",
    "map_estimate.shape, map_steps, transition_steps"
   ]
  },
  {
   "cell_type": "code",
   "execution_count": null,
   "id": "608c1fe4-8885-459c-8c0c-3946d5808a0a",
   "metadata": {},
   "outputs": [],
   "source": []
  },
  {
   "cell_type": "code",
   "execution_count": 20,
   "id": "2a8ee8bd-3f23-4b47-b1b5-0759314ccea7",
   "metadata": {},
   "outputs": [
    {
     "name": "stdout",
     "output_type": "stream",
     "text": [
      "beta for lens #0\n",
      "beta for lens #1\n",
      "(100, 22)\n",
      "41\n",
      "(22,)\n"
     ]
    }
   ],
   "source": [
    "\n",
    "lens_sim = LensSimulator(phys_model, sim_config, bs=len(map_estimate))\n",
    "# these two lines can take long to run on cpu\n",
    "# \n",
    "lps, chi2 = prob_model.log_prob(lens_sim, map_estimate)\n",
    "# recon = lens_sim.lstsq_simulate(prob_model.bij.forward(list(map_estimate.T)), \n",
    "#                                 obs_data, prob_model.err_map)[np.nanargmax(lps)]\n",
    "\n",
    "best_params = prob_model.bij.forward(list(map_estimate[np.nanargmax(lps)]))\n",
    "\n",
    "print(map_estimate.shape)\n",
    "print(np.nanargmax(lps))\n",
    "print(map_estimate[np.nanargmax(lps)].shape)\n"
   ]
  },
  {
   "cell_type": "code",
   "execution_count": null,
   "id": "d989d8fa-a70e-4add-b16e-a41acfd447bf",
   "metadata": {},
   "outputs": [],
   "source": [
    "chi2_arr = np.array(chi2_hist)\n",
    "chi2_min = chi2_arr.min()\n",
    "map_samples = map_estimate.shape[0]\n",
    "# map_steps, transition_steps, seed = hyper_params\n",
    "\n",
    "# map_steps, transition_steps, seed, lr_start, lr_end, pwr = hyper_params\n",
    "\n",
    "lr_start, lr_end, pwr = -1e-2, -1e-2/4, 0.5\n",
    "\n",
    "plt.figure(figsize=(5, 4))\n",
    "plt.plot(chi2_hist)\n",
    "plt.yscale('log')\n",
    "plt.text(map_steps*0.5, chi2_min*1.4, 'chi2_min:{:.3f}'.format(chi2_min))\n",
    "hyper_p = 'map_samples:{:d} \\n\\\n",
    "map_steps:{:d}  \\n \\\n",
    "transition_steps:{:d} \\n'.format(map_samples, map_steps, transition_steps) #, seed, lr_start, lr_end, pwr) \n",
    "# hyper_p = 'map_samples:{:d} \\n'.format(map_samples) #, map_steps, transition_steps, seed, lr_start, lr_end, pwr) \n",
    "\n",
    "plt.text(map_steps*0.5, chi2_min, hyper_p)\n",
    "# plt.ylim(2.5, 6)\n",
    "plt.ylim(0.9, 20)\n",
    "plt.show()\n"
   ]
  },
  {
   "cell_type": "code",
   "execution_count": null,
   "id": "afbb14b2-8463-4551-8681-e8248be4ed01",
   "metadata": {},
   "outputs": [],
   "source": [
    "# note in the instantiation of prob_model, the observed_img is used (though I'm not sure why)\n",
    "# prob_model = ForwardProbModel(prior, observed_img, background_rms=background_rms, exp_time=exp_time)\n",
    "# model_seq = ModellingSequence(phys_model, prob_model, sim_config)"
   ]
  },
  {
   "cell_type": "markdown",
   "id": "76ebf01b-4e99-4119-961e-0a2b1bdb3479",
   "metadata": {},
   "source": [
    "## Add source plane reconstruction\n",
    "\n",
    "## Also find the light amplitude, Ie, in the case when linear inversion is used (otherwise it's one of the fitting parameters)"
   ]
  },
  {
   "cell_type": "code",
   "execution_count": null,
   "id": "53075790-8c1a-4055-8553-8e5248d8fe80",
   "metadata": {},
   "outputs": [],
   "source": [
    "# note here, we didn't use linear inversion so the brigtness, Ie, was fit for too.\n",
    "# best_params = prob_model.bij.forward(list(map_estimate[np.nanargmax(lps)]))   \n",
    "        \n",
    "# extract_params(best_params)\n",
    "# print('Compared with truth: \\n')\n",
    "\n",
    "print('The truth parameters:')\n",
    "extract_params(truth)\n",
    "# chi2_ar = chi2_arr[-100:]\n",
    "# print('min chi2: {:4.3f}'.format(chi2_arr.min()))"
   ]
  },
  {
   "cell_type": "code",
   "execution_count": null,
   "id": "3f83e1f9-a32c-4de5-b161-33321eab18d7",
   "metadata": {},
   "outputs": [],
   "source": [
    "# compare best-fit parameters with observed image\n",
    "from astropy import modeling\n",
    "\n",
    "plt.figure(figsize=(15, 3))\n",
    "plt.subplot(141)\n",
    "plt.imshow(lens_sim.simulate(truth), norm=mpl.colors.PowerNorm(0.5, vmin=0, vmax=20),)\n",
    "# plt.colorbar()\n",
    "plt.axis('off')\n",
    "plt.subplot(142)\n",
    "simulated = lens_sim.simulate(truth)\n",
    "plt.imshow(simulated, norm=mpl.colors.PowerNorm(0.5, vmin=0, vmax=20),)\n",
    "\n",
    "plt.subplot(143)\n",
    "resid = simulated - observed_img\n",
    "background_rms, exp_time = 0.2, 100\n",
    "err_map = np.sqrt(background_rms**2 + simulated/exp_time)\n",
    "\n",
    "norm_resid = np.asarray(resid/err_map)\n",
    "\n",
    "plt.imshow(norm_resid, cmap='coolwarm', interpolation='none', vmin=-5, vmax=5)\n",
    "plt.axis('off')\n",
    "plt.colorbar()\n",
    "\n",
    "plt.subplot(144)\n",
    "bin_h, bins, _ = plt.hist(norm_resid.flatten(), bins=100)\n",
    "x = (bins[:-1] + bins[1:])/2\n",
    "fitter = modeling.fitting.LevMarLSQFitter()\n",
    "model = modeling.models.Gaussian1D()   # depending on the data you need to give some initial values\n",
    "fitted_model = fitter(model, x, bin_h)\n",
    "\n",
    "plt.plot(x, fitted_model(x))\n",
    "plt.title(r'$\\mu$ = {:.3f}, $\\sigma$ = {:.3f}'.format(fitted_model.mean.value, fitted_model.stddev.value))\n",
    "\n",
    "print('Chi-square:', np.mean((resid/err_map)**2))\n",
    "\n",
    "\n"
   ]
  },
  {
   "cell_type": "code",
   "execution_count": null,
   "id": "d978ecf5",
   "metadata": {},
   "outputs": [],
   "source": [
    "plt.imshow(lens_sim.simulate(truth), norm=mpl.colors.PowerNorm(0.5, vmin=0, vmax=20),)\n"
   ]
  },
  {
   "cell_type": "code",
   "execution_count": null,
   "id": "cb57f1cf",
   "metadata": {},
   "outputs": [],
   "source": [
    "from copy import copy\n",
    "no_lens = copy(truth)\n",
    "no_lens[0][0]['theta_E'] = 1e-12\n",
    "no_lens"
   ]
  },
  {
   "cell_type": "markdown",
   "id": "b8a2bd27-7b40-499c-8429-417a26b48f29",
   "metadata": {},
   "source": [
    "# next use WS code to get the source plane "
   ]
  },
  {
   "cell_type": "markdown",
   "id": "d5e28a42-30f0-4e22-88d3-ce0ee78d87f3",
   "metadata": {},
   "source": [
    "# Why does the source position doesn't seem to be very close to the center of the caustic?\n",
    "# Check if the source position is right? Since I'm using the truth here."
   ]
  },
  {
   "cell_type": "code",
   "execution_count": 8,
   "id": "1e4d3be1-c911-4c6a-b9a3-a405cc981ae6",
   "metadata": {},
   "outputs": [
    {
     "name": "stdout",
     "output_type": "stream",
     "text": [
      "lens params: [{'theta_E': 1.1, 'gamma': 2.0, 'e1': 0.2, 'e2': 1e-06, 'center_x': 0.0, 'center_y': 0.0}, {'gamma1': 1e-06, 'gamma2': 1e-06}]\n",
      "source light params: [{'R_sersic': 0.01, 'n_sersic': 2.0, 'e1': 0.0, 'e2': 0.0, 'center_x': 0.0, 'center_y': 0.0, 'Ie': 5000.0}]\n",
      "(100,)\n",
      "num_pix, delta_pix, scale_extent, ext_arcsec: 61 0.065 2.0 2.015\n",
      "extent (2.015, -2.015, -2.015, 2.015)\n"
     ]
    },
    {
     "data": {
      "text/plain": [
       "[<matplotlib.lines.Line2D at 0x14e0e010e950>]"
      ]
     },
     "execution_count": 8,
     "metadata": {},
     "output_type": "execute_result"
    },
    {
     "data": {
      "image/png": "[encoded data removed]",
      "text/plain": [
       "<Figure size 864x360 with 2 Axes>"
      ]
     },
     "metadata": {
      "needs_background": "light"
     },
     "output_type": "display_data"
    }
   ],
   "source": [
    "lensModel = LensModel(lens_model_list=['EPL', 'SHEAR'], multi_plane=False)\n",
    "kwargs_lens = truth[0]\n",
    "\n",
    "print('lens params:', truth[0])\n",
    "\n",
    "# phys_model_t = PhysicalModel([], [sersic.SersicEllipse(use_lstsq=False)], [])\n",
    "# sim_config_t = SimulatorConfig(delta_pix=delta_pix, num_pix=num_pix, supersample=supersample, kernel=kernel)\n",
    "# lens_sim_t = LensSimulator(phys_model_t, sim_config_t, bs=1)\n",
    "# x = lens_sim_t.simulate([truth[0], truth[2], []])\n",
    "# x = lens_sim_t.simulate(truth)\n",
    "# off = -(size-2)\n",
    "\n",
    "\n",
    "print('source light params:', truth[2])\n",
    "\n",
    "\n",
    "print(x.shape)\n",
    "fig, (ax1, ax2) = plt.subplots(1, 2, figsize=(12, 5))\n",
    "\n",
    "lens_plot.lens_model_plot(ax1, lensModel=lensModel, kwargs_lens=kwargs_lens, with_caustics=True, fast_caustic=True, coord_inverse=True, with_convergence=False, deltaPix=delta_pix, numPix=num_pix, )\n",
    "simulated = lens_sim.simulate([[], truth[2], []])\n",
    "\n",
    "scale_extent = 2.0\n",
    "ext_arcsec = ((num_pix+1)*delta_pix)/scale_extent\n",
    "print('num_pix, delta_pix, scale_extent, ext_arcsec:', num_pix, delta_pix, scale_extent, ext_arcsec)\n",
    "\n",
    "extent = ext_arcsec, -ext_arcsec, -ext_arcsec, ext_arcsec\n",
    "print('extent', extent)\n",
    "\n",
    "ax1.plot(0, 0, 'x', ms=10, color='red')\n",
    "ax1.imshow(simulated, norm=mpl.colors.PowerNorm(0.5, vmin=0, vmax=1), extent=extent)\n",
    "\n",
    "lens_plot.lens_model_plot(ax2, lensModel=lensModel, kwargs_lens=kwargs_lens, with_caustics=True, fast_caustic=True, coord_inverse=True, with_convergence=False, deltaPix=delta_pix, numPix=num_pix, )\n",
    "ax2.plot(0, 0, 'x', ms=10, color='red')\n",
    "\n",
    "\n",
    "\n",
    "\n",
    "# ax.imshow(simulated, vmin=0, vmax=1, extent=extent)\n",
    "\n",
    "# # source_img = np.rot90(np.rot90(x))\n",
    "# source_img = x\n",
    "\n",
    "# ax.imshow(source_img, norm=mpl.colors.PowerNorm(0.5, vmin=3.0, vmax=3.5), extent=extent)"
   ]
  },
  {
   "cell_type": "code",
   "execution_count": 98,
   "id": "b6de47b3",
   "metadata": {},
   "outputs": [
    {
     "data": {
      "text/plain": [
       "DeviceArray(1.0568318, dtype=float32)"
      ]
     },
     "execution_count": 98,
     "metadata": {},
     "output_type": "execute_result"
    }
   ],
   "source": [
    "simulated.max()"
   ]
  },
  {
   "cell_type": "code",
   "execution_count": 37,
   "id": "d0427ddc-15c1-43a6-91f3-2b9293c6b5c8",
   "metadata": {},
   "outputs": [
    {
     "name": "stdout",
     "output_type": "stream",
     "text": [
      "lens params: [{'theta_E': 1e-12, 'gamma': 1.8, 'e1': 0.1, 'e2': 1e-06, 'center_x': 0.0, 'center_y': 0.0}, {'gamma1': 1e-06, 'gamma2': 1e-06}]\n",
      "lens_light_params []\n",
      "source_light_params [{'Ie': Traced<ShapedArray(float32[], weak_type=True)>with<DynamicJaxprTrace(level=0/1)>, 'R_sersic': Traced<ShapedArray(float32[], weak_type=True)>with<DynamicJaxprTrace(level=0/1)>, 'center_x': Traced<ShapedArray(float32[], weak_type=True)>with<DynamicJaxprTrace(level=0/1)>, 'center_y': Traced<ShapedArray(float32[], weak_type=True)>with<DynamicJaxprTrace(level=0/1)>, 'e1': Traced<ShapedArray(float32[], weak_type=True)>with<DynamicJaxprTrace(level=0/1)>, 'e2': Traced<ShapedArray(float32[], weak_type=True)>with<DynamicJaxprTrace(level=0/1)>, 'n_sersic': Traced<ShapedArray(float32[], weak_type=True)>with<DynamicJaxprTrace(level=0/1)>}]\n",
      "lens_light_params [{'Ie': Traced<ShapedArray(float32[], weak_type=True)>with<DynamicJaxprTrace(level=0/1)>, 'R_sersic': Traced<ShapedArray(float32[], weak_type=True)>with<DynamicJaxprTrace(level=0/1)>, 'center_x': Traced<ShapedArray(float32[], weak_type=True)>with<DynamicJaxprTrace(level=0/1)>, 'center_y': Traced<ShapedArray(float32[], weak_type=True)>with<DynamicJaxprTrace(level=0/1)>, 'e1': Traced<ShapedArray(float32[], weak_type=True)>with<DynamicJaxprTrace(level=0/1)>, 'e2': Traced<ShapedArray(float32[], weak_type=True)>with<DynamicJaxprTrace(level=0/1)>, 'n_sersic': Traced<ShapedArray(float32[], weak_type=True)>with<DynamicJaxprTrace(level=0/1)>}]\n",
      "source_light_params []\n",
      "source light params: [{'R_sersic': 0.25, 'n_sersic': 1.5, 'e1': 0.0, 'e2': 0.0, 'center_x': 0.0, 'center_y': 0.0, 'Ie': 150.0}]\n"
     ]
    },
    {
     "data": {
      "image/png": "[encoded data removed]",
      "text/plain": [
       "<Figure size 360x360 with 1 Axes>"
      ]
     },
     "metadata": {
      "needs_background": "light"
     },
     "output_type": "display_data"
    }
   ],
   "source": [
    "lensModel = LensModel(lens_model_list=['EPL', 'SHEAR'], multi_plane=False)\n",
    "kwargs_lens = truth[0]\n",
    "\n",
    "print('lens params:', truth[0])\n",
    "\n",
    "\n",
    "arcs_img = lens_sim.simulate([truth[0], [], truth[2]])\n",
    "source_img = lens_sim.simulate([no_lens[0], truth[2], []])\n",
    "\n",
    "# plt.imshow(simulated, norm=mpl.colors.PowerNorm(0.5, vmin=0, vmax=20),)\n",
    "\n",
    "\n",
    "\n",
    "# phys_model_t = PhysicalModel([], [sersic.SersicEllipse(use_lstsq=False)], [])\n",
    "# sim_config_t = SimulatorConfig(delta_pix=delta_pix, num_pix=num_pix, supersample=2, kernel=kernel)\n",
    "# lens_sim_t = LensSimulator(phys_model_t, sim_config_t, bs=1)\n",
    "# source_img = lens_sim_t.simulate([[], truth[2], []])\n",
    "# arcs_img = lens_sim_t.simulate([truth[0], truth[1], truth[2]])\n",
    "\n",
    "source_arcs = source_img + arcs_img\n",
    "\n",
    "# off = -(size-2)\n",
    "\n",
    "print('source light params:', truth[2])\n",
    "\n",
    "# print(x.shape)\n",
    "fig, ax = plt.subplots(1, 1, figsize=(5, 5))\n",
    "\n",
    "lens_plot.lens_model_plot(ax, lensModel=lensModel, kwargs_lens=kwargs_lens, with_caustics=True, fast_caustic=True, coord_inverse=True, with_convergence=False, deltaPix=delta_pix, numPix=num_pix, )\n",
    "\n",
    "# scale_extent = 2\n",
    "\n",
    "# extent = (num_pix*delta_pix)/scale_extent, -(num_pix*delta_pix)/scale_extent, \\\n",
    "#          -(num_pix*delta_pix)/scale_extent, (num_pix*delta_pix)/scale_extent,\n",
    "\n",
    "# # source_img = np.rot90(np.rot90(source_img))\n",
    "# # extent = -(num_pix*delta_pix), (num_pix*delta_pix), -(num_pix*delta_pix), (num_pix*delta_pix)\n",
    "\n",
    "\n",
    "# # ax.imshow(source_arcs, norm=mpl.colors.PowerNorm(0.5, vmin=3.0, vmax=3.5), extent=extent)\n",
    "# ax.plot(truth[2][0]['center_x'], truth[2][0]['center_y'], '*', color='gray', ms=10)\n",
    "# ax.imshow(arcs_img, norm=mpl.colors.PowerNorm(0.5, vmin=0, vmax=20), extent=extent) #, cmap='GnBu')\n",
    "# ax.grid(axis='both')\n",
    "\n",
    "\n",
    "# ax2 = ax.twinx().twiny() #here is the trick!\n",
    "# ax2.imshow(arcs_img, norm=mpl.colors.PowerNorm(0.5, vmin=0, vmax=20)) #, cmap='GnBu')\n",
    "\n",
    "# # ax2.tick_params(axis='both', labelcolor='blue')\n",
    "# ax2.tick_params(top=True, labeltop=True, right=True, labelright=True)\n",
    "# # Major ticks\n",
    "# ax2.set_xticks(np.arange(0, 60, 1))\n",
    "# ax2.set_yticks(np.arange(0, 60, 1))\n",
    "\n",
    "# # Labels for major ticks\n",
    "# ax2.set_xticklabels(np.arange(1, 61, 1))\n",
    "# ax2.set_yticklabels(np.arange(1, 61, 1))\n",
    "# # ax2.grid(which='major', axis='both')\n",
    "# # ax2.set_xticks(np.linspace(0, 59, 6))\n",
    "plt.show()"
   ]
  },
  {
   "cell_type": "code",
   "execution_count": 38,
   "id": "b19f7d35-effd-4770-bffd-6458615ca168",
   "metadata": {},
   "outputs": [
    {
     "data": {
      "image/png": "[encoded data removed]",
      "text/plain": [
       "<Figure size 432x288 with 1 Axes>"
      ]
     },
     "metadata": {
      "needs_background": "light"
     },
     "output_type": "display_data"
    }
   ],
   "source": [
    "plt.figure()\n",
    "im = plt.imshow(np.reshape(np.random.rand(100), newshape=(10,10)),\n",
    "                interpolation='none', vmin=0, vmax=1, aspect='equal')\n",
    "\n",
    "ax = plt.gca();\n",
    "\n",
    "# Major ticks\n",
    "ax.set_xticks(np.arange(0, 10, 1))\n",
    "ax.set_yticks(np.arange(0, 10, 1))\n",
    "\n",
    "# Labels for major ticks\n",
    "ax.set_xticklabels(np.arange(1, 11, 1))\n",
    "ax.set_yticklabels(np.arange(1, 11, 1))\n",
    "\n",
    "# # Minor ticks\n",
    "# ax.set_xticks(np.arange(-.5, 10, 1), minor=True)\n",
    "# ax.set_yticks(np.arange(-.5, 10, 1), minor=True)\n",
    "\n",
    "# Gridlines based on minor ticks\n",
    "# ax.grid(which='minor', color='w', linestyle='-', linewidth=2)\n",
    "ax.grid(which='major')"
   ]
  },
  {
   "cell_type": "code",
   "execution_count": 39,
   "id": "59d014bf-d76c-4426-a8b7-1a6b1e620a8f",
   "metadata": {},
   "outputs": [
    {
     "data": {
      "image/png": "[encoded data removed]",
      "text/plain": [
       "<Figure size 720x720 with 1 Axes>"
      ]
     },
     "metadata": {
      "needs_background": "light"
     },
     "output_type": "display_data"
    }
   ],
   "source": [
    "plt.figure(figsize=(10, 10))\n",
    "im = plt.imshow(arcs_img,\n",
    "                interpolation='none', vmin=0, vmax=1, aspect='equal')\n",
    "\n",
    "ax = plt.gca()\n",
    "\n",
    "# Major ticks\n",
    "ax.set_xticks(np.arange(0, 60, 1))\n",
    "ax.set_yticks(np.arange(0, 60, 1))\n",
    "\n",
    "# Labels for major ticks\n",
    "ax.set_xticklabels(np.arange(1, 61, 1))\n",
    "ax.set_yticklabels(np.arange(1, 61, 1))\n",
    "\n",
    "# # Minor ticks\n",
    "# ax.set_xticks(np.arange(-.5, 10, 1), minor=True)\n",
    "# ax.set_yticks(np.arange(-.5, 10, 1), minor=True)\n",
    "\n",
    "# Gridlines based on minor ticks\n",
    "# ax.grid(which='minor', color='w', linestyle='-', linewidth=2)\n",
    "ax.grid(which='major')\n",
    "\n",
    "# ax.imshow(arcs_img)"
   ]
  },
  {
   "cell_type": "code",
   "execution_count": 40,
   "id": "7cf96dbd-f3a9-4bd5-9f45-a7829b996478",
   "metadata": {},
   "outputs": [
    {
     "data": {
      "image/png": "[encoded data removed]",
      "text/plain": [
       "<Figure size 720x720 with 1 Axes>"
      ]
     },
     "metadata": {
      "needs_background": "light"
     },
     "output_type": "display_data"
    }
   ],
   "source": [
    "plt.figure(figsize=(10, 10))\n",
    "im = plt.imshow(arcs_img,\n",
    "                interpolation='none', vmin=0, vmax=1, aspect='equal')\n",
    "\n",
    "ax = plt.gca()\n",
    "ax.tick_params(top=True, labeltop=True, right=True, labelright=True)\n",
    "\n",
    "# Major ticks\n",
    "ax.set_xticks(np.arange(0, 60, 1))\n",
    "ax.set_yticks(np.arange(0, 60, 1))\n",
    "\n",
    "# Labels for major ticks\n",
    "ax.set_xticklabels(np.arange(1, 61, 1))\n",
    "ax.set_yticklabels(np.arange(1, 61, 1))\n",
    "\n",
    "ax.grid(which='major')\n"
   ]
  },
  {
   "cell_type": "code",
   "execution_count": 41,
   "id": "e3e54623-5085-49c8-9af1-95d98fa87259",
   "metadata": {},
   "outputs": [
    {
     "data": {
      "image/png": "[encoded data removed]",
      "text/plain": [
       "<Figure size 720x720 with 2 Axes>"
      ]
     },
     "metadata": {},
     "output_type": "display_data"
    }
   ],
   "source": [
    "plt.figure(figsize=(10, 10))\n",
    "im = plt.imshow(arcs_img,\n",
    "                interpolation='none', vmin=0, vmax=1, aspect='equal')\n",
    "\n",
    "ax = plt.gca()\n",
    "ax.tick_params(left=False, labelleft=False, \\\n",
    "               bottom=False, labelbottom=False, \\\n",
    "               top=False, labeltop=False, \\\n",
    "               right=False, labelright=False)\n",
    "\n",
    "\n",
    "# Major ticks\n",
    "ax.set_xticks(np.arange(0, 60, 1))\n",
    "ax.set_yticks(np.arange(0, 60, 1))\n",
    "\n",
    "# Labels for major ticks\n",
    "ax.set_xticklabels(np.arange(1, 61, 1))\n",
    "ax.set_yticklabels(np.arange(1, 61, 1))\n",
    "\n",
    "# ax.grid(which='major')\n",
    "\n",
    "ax2 = ax.twiny() #here is the trick!\n",
    "ax2.tick_params(left=False, labelleft=False, \\\n",
    "               bottom=False, labelbottom=False, \\\n",
    "               top=False, labeltop=False, \\\n",
    "               right=False, labelright=False)\n",
    "\n",
    "# ax2.tick_params(left=False, labelleft=False, bottom=False, labelbottom=False, top=False, labeltop=False, right=False, labelright=False)\n",
    "# # Major ticks\n",
    "# # ax2.set_xticks(np.arange(0, 60, 1))\n",
    "# ax2.set_yticks(np.arange(0, 60, 1))\n",
    "\n",
    "# # Labels for major ticks\n",
    "# # ax2.set_xticklabels(np.arange(1, 61, 1))\n",
    "# ax2.set_yticklabels(np.arange(1, 61, 1))\n",
    "# ax2.grid(which='major', axis='x')\n"
   ]
  },
  {
   "cell_type": "code",
   "execution_count": 42,
   "id": "e771a6c0-21eb-43d4-a814-1bc262520d2f",
   "metadata": {},
   "outputs": [
    {
     "data": {
      "text/plain": [
       "{'R_sersic': 0.25,\n",
       " 'n_sersic': 1.5,\n",
       " 'e1': 0.0,\n",
       " 'e2': 0.0,\n",
       " 'center_x': 0.0,\n",
       " 'center_y': 0.0,\n",
       " 'Ie': 150.0}"
      ]
     },
     "execution_count": 42,
     "metadata": {},
     "output_type": "execute_result"
    }
   ],
   "source": [
    "truth[2][0]"
   ]
  },
  {
   "cell_type": "code",
   "execution_count": 43,
   "id": "f2b51178-0b44-4094-b251-c4307cfce031",
   "metadata": {},
   "outputs": [
    {
     "data": {
      "text/plain": [
       "<matplotlib.image.AxesImage at 0x292f529d0>"
      ]
     },
     "execution_count": 43,
     "metadata": {},
     "output_type": "execute_result"
    },
    {
     "data": {
      "image/png": "[encoded data removed]",
      "text/plain": [
       "<Figure size 432x288 with 1 Axes>"
      ]
     },
     "metadata": {
      "needs_background": "light"
     },
     "output_type": "display_data"
    }
   ],
   "source": [
    "arcs_img = lens_sim.simulate([truth[0], [], truth[2]])\n",
    "plt.imshow(arcs_img)"
   ]
  },
  {
   "cell_type": "code",
   "execution_count": 44,
   "id": "b5071529-64e8-4fd2-a55b-3949ca04fbf4",
   "metadata": {},
   "outputs": [
    {
     "name": "stdout",
     "output_type": "stream",
     "text": [
      "lens_light_params [{'Ie': Traced<ShapedArray(float32[], weak_type=True)>with<DynamicJaxprTrace(level=0/1)>, 'R_sersic': Traced<ShapedArray(float32[], weak_type=True)>with<DynamicJaxprTrace(level=0/1)>, 'center_x': Traced<ShapedArray(float32[], weak_type=True)>with<DynamicJaxprTrace(level=0/1)>, 'center_y': Traced<ShapedArray(float32[], weak_type=True)>with<DynamicJaxprTrace(level=0/1)>, 'e1': Traced<ShapedArray(float32[], weak_type=True)>with<DynamicJaxprTrace(level=0/1)>, 'e2': Traced<ShapedArray(float32[], weak_type=True)>with<DynamicJaxprTrace(level=0/1)>, 'n_sersic': Traced<ShapedArray(float32[], weak_type=True)>with<DynamicJaxprTrace(level=0/1)>}]\n",
      "source_light_params []\n"
     ]
    },
    {
     "data": {
      "text/plain": [
       "<matplotlib.image.AxesImage at 0x292fd4f10>"
      ]
     },
     "execution_count": 44,
     "metadata": {},
     "output_type": "execute_result"
    },
    {
     "data": {
      "image/png": "[encoded data removed]",
      "text/plain": [
       "<Figure size 432x288 with 1 Axes>"
      ]
     },
     "metadata": {
      "needs_background": "light"
     },
     "output_type": "display_data"
    }
   ],
   "source": [
    "source_img = lens_sim.simulate([[], truth[2], []])\n",
    "plt.imshow(source_img + arcs_img)"
   ]
  },
  {
   "cell_type": "markdown",
   "id": "6d6cf154-b842-4296-918a-056e4e5b7ff3",
   "metadata": {},
   "source": [
    "## Next: add cautic and critical curves -- reproduce one of the four archetypes"
   ]
  },
  {
   "cell_type": "code",
   "execution_count": 45,
   "id": "1750f1c0-e704-4230-843b-3300d4a0a18c",
   "metadata": {},
   "outputs": [
    {
     "data": {
      "image/png": "[encoded data removed]",
      "text/plain": [
       "<Figure size 360x360 with 3 Axes>"
      ]
     },
     "metadata": {
      "needs_background": "light"
     },
     "output_type": "display_data"
    }
   ],
   "source": [
    "fig, ax = plt.subplots(1, 1, figsize=(5, 5))\n",
    "\n",
    "nx, ny = 3, 3\n",
    "\n",
    "np.random.seed(seed=1)\n",
    "img = np.reshape(np.random.rand(nx*ny), newshape=(nx, ny))\n",
    "\n",
    "im = ax.imshow(img, interpolation='none', vmin=0, vmax=1, aspect='equal')\n",
    "\n",
    "# Major ticks\n",
    "ax.set_xticks(np.arange(0, nx, 1))\n",
    "ax.set_yticks(np.arange(0, ny, 1))\n",
    "\n",
    "# Labels for major ticks\n",
    "ax.set_xticklabels(np.arange(1, nx+1, 1))\n",
    "ax.set_yticklabels(np.arange(1, ny+1, 1))\n",
    "\n",
    "# # Minor ticks\n",
    "# ax.set_xticks(np.arange(-.5, 10, 1), minor=True)\n",
    "# ax.set_yticks(np.arange(-.5, 10, 1), minor=True)\n",
    "\n",
    "# Gridlines based on minor ticks\n",
    "# ax.grid(which='minor', color='w', linestyle='-', linewidth=2)\n",
    "ax.grid(which='major', axis='both')\n",
    "\n",
    "ax2 = ax.twiny() #here is the trick!\n",
    "\n",
    "# ax2.tick_params(top=True, labeltop=True, right=True, labelright=True)\n",
    "# # Major ticks\n",
    "ax2.set_xticks(np.arange(0, nx, 1))\n",
    "ax2.set_yticks(np.arange(0, ny, 1))\n",
    "\n",
    "# # Labels for major ticks\n",
    "# ax2.set_xticklabels(np.arange(1, nx+1, 1))\n",
    "# ax2.set_yticklabels(np.arange(1, ny+1, 1))\n",
    "ax2.imshow(img, interpolation='none', vmin=0, vmax=1, aspect='equal')\n",
    "\n",
    "\n",
    "ax2.grid(which='major', axis='y')\n",
    "\n",
    "\n",
    "\n",
    "ax3 = ax2.twiny() #here is the trick!\n",
    "\n",
    "# ax2.tick_params(top=True, labeltop=True, right=True, labelright=True)\n",
    "# # Major ticks\n",
    "ax3.set_xticks(np.arange(0, nx, 1))\n",
    "ax3.set_yticks(np.arange(0, ny, 1))\n",
    "\n",
    "# # Labels for major ticks\n",
    "# ax2.set_xticklabels(np.arange(1, nx+1, 1))\n",
    "# ax2.set_yticklabels(np.arange(1, ny+1, 1))\n",
    "ax3.imshow(img, interpolation='none', vmin=0, vmax=1, aspect='equal')\n",
    "\n",
    "\n",
    "ax3.grid(which='major', axis='y')\n",
    "plt.show()\n",
    "\n"
   ]
  }
 ],
 "metadata": {
  "kernelspec": {
   "display_name": "JaxEnv",
   "language": "python",
   "name": "jaxenv"
  },
  "language_info": {
   "codemirror_mode": {
    "name": "ipython",
    "version": 3
   },
   "file_extension": ".py",
   "mimetype": "text/x-python",
   "name": "python",
   "nbconvert_exporter": "python",
   "pygments_lexer": "ipython3",
   "version": "3.7.11"
  }
 },
 "nbformat": 4,
 "nbformat_minor": 5
}
